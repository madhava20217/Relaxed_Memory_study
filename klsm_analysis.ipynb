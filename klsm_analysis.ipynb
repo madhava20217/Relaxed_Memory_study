{
 "cells": [
  {
   "cell_type": "markdown",
   "metadata": {},
   "source": [
    "# Python Notebook for Analysing Benchmark Results of the K-Priority Queue benchmark"
   ]
  },
  {
   "cell_type": "markdown",
   "metadata": {},
   "source": [
    "## Imports and Parameters"
   ]
  },
  {
   "cell_type": "code",
   "execution_count": 31,
   "metadata": {},
   "outputs": [],
   "source": [
    "import os\n",
    "import numpy as np\n",
    "import pandas as pd\n",
    "import seaborn as sns\n",
    "import matplotlib.pyplot as plt"
   ]
  },
  {
   "cell_type": "code",
   "execution_count": 32,
   "metadata": {},
   "outputs": [],
   "source": [
    "frequencies = [1200000, 1500000, 2000000, 2500000, 2800000]\n",
    "cores = [1, 8, 16, 24, 32]"
   ]
  },
  {
   "cell_type": "code",
   "execution_count": 33,
   "metadata": {},
   "outputs": [],
   "source": [
    "metrics = ['benchmark', 'cores', 'throughput', 'frequency', 'power']\n",
    "metrics_bench = ['benchmark', 'cores', 'throughput']\n",
    "metrics_power = ['power']"
   ]
  },
  {
   "cell_type": "code",
   "execution_count": 34,
   "metadata": {},
   "outputs": [],
   "source": [
    "dataframe = pd.DataFrame(columns = metrics)"
   ]
  },
  {
   "cell_type": "markdown",
   "metadata": {},
   "source": [
    "## Creating the Dataframe\n",
    "\n",
    "We create a dataframe containing all of the results obtained after running the benchmarks, sorted by the benchmark name, cores, and the frequency."
   ]
  },
  {
   "cell_type": "code",
   "execution_count": 35,
   "metadata": {},
   "outputs": [],
   "source": [
    "for frequency in frequencies:\n",
    "    for core in cores:\n",
    "        dataframe = pd.concat([dataframe, pd.read_csv(\"./klsm/results/{freq}/results_{cores}.csv\".format(\n",
    "                    freq = frequency, \n",
    "                    cores = core\n",
    "                ), names = metrics_bench).assign(frequency = frequency)], ignore_index= True, sort= True)\n",
    "        avg_power = pd.read_csv(\"./klsm/results/{freq}/power_{cores}.csv\".format(\n",
    "                    freq = frequency, \n",
    "                    cores = core\n",
    "                ), names = metrics_power, index_col= False).mean().mean()\n",
    "        dataframe.fillna(avg_power, inplace = True)"
   ]
  },
  {
   "cell_type": "code",
   "execution_count": 36,
   "metadata": {},
   "outputs": [
    {
     "data": {
      "text/html": [
       "<div>\n",
       "<style scoped>\n",
       "    .dataframe tbody tr th:only-of-type {\n",
       "        vertical-align: middle;\n",
       "    }\n",
       "\n",
       "    .dataframe tbody tr th {\n",
       "        vertical-align: top;\n",
       "    }\n",
       "\n",
       "    .dataframe thead th {\n",
       "        text-align: right;\n",
       "    }\n",
       "</style>\n",
       "<table border=\"1\" class=\"dataframe\">\n",
       "  <thead>\n",
       "    <tr style=\"text-align: right;\">\n",
       "      <th></th>\n",
       "      <th>benchmark</th>\n",
       "      <th>cores</th>\n",
       "      <th>frequency</th>\n",
       "      <th>power</th>\n",
       "      <th>throughput</th>\n",
       "      <th>efficiency</th>\n",
       "    </tr>\n",
       "  </thead>\n",
       "  <tbody>\n",
       "    <tr>\n",
       "      <th>0</th>\n",
       "      <td>klsm128</td>\n",
       "      <td>1</td>\n",
       "      <td>1200000</td>\n",
       "      <td>105.239227</td>\n",
       "      <td>4243749</td>\n",
       "      <td>40324.783001</td>\n",
       "    </tr>\n",
       "    <tr>\n",
       "      <th>1</th>\n",
       "      <td>klsm128</td>\n",
       "      <td>1</td>\n",
       "      <td>1200000</td>\n",
       "      <td>105.239227</td>\n",
       "      <td>4273766</td>\n",
       "      <td>40610.009345</td>\n",
       "    </tr>\n",
       "    <tr>\n",
       "      <th>2</th>\n",
       "      <td>klsm128</td>\n",
       "      <td>1</td>\n",
       "      <td>1200000</td>\n",
       "      <td>105.239227</td>\n",
       "      <td>4276790</td>\n",
       "      <td>40638.743877</td>\n",
       "    </tr>\n",
       "    <tr>\n",
       "      <th>3</th>\n",
       "      <td>klsm128</td>\n",
       "      <td>1</td>\n",
       "      <td>1200000</td>\n",
       "      <td>105.239227</td>\n",
       "      <td>4277757</td>\n",
       "      <td>40647.932466</td>\n",
       "    </tr>\n",
       "    <tr>\n",
       "      <th>4</th>\n",
       "      <td>klsm128</td>\n",
       "      <td>1</td>\n",
       "      <td>1200000</td>\n",
       "      <td>105.239227</td>\n",
       "      <td>4279924</td>\n",
       "      <td>40668.523647</td>\n",
       "    </tr>\n",
       "    <tr>\n",
       "      <th>...</th>\n",
       "      <td>...</td>\n",
       "      <td>...</td>\n",
       "      <td>...</td>\n",
       "      <td>...</td>\n",
       "      <td>...</td>\n",
       "      <td>...</td>\n",
       "    </tr>\n",
       "    <tr>\n",
       "      <th>245</th>\n",
       "      <td>klsm256</td>\n",
       "      <td>32</td>\n",
       "      <td>2800000</td>\n",
       "      <td>218.917923</td>\n",
       "      <td>196992192</td>\n",
       "      <td>899844.970665</td>\n",
       "    </tr>\n",
       "    <tr>\n",
       "      <th>246</th>\n",
       "      <td>klsm256</td>\n",
       "      <td>32</td>\n",
       "      <td>2800000</td>\n",
       "      <td>218.917923</td>\n",
       "      <td>198563302</td>\n",
       "      <td>907021.678622</td>\n",
       "    </tr>\n",
       "    <tr>\n",
       "      <th>247</th>\n",
       "      <td>klsm256</td>\n",
       "      <td>32</td>\n",
       "      <td>2800000</td>\n",
       "      <td>218.917923</td>\n",
       "      <td>199977867</td>\n",
       "      <td>913483.301228</td>\n",
       "    </tr>\n",
       "    <tr>\n",
       "      <th>248</th>\n",
       "      <td>klsm256</td>\n",
       "      <td>32</td>\n",
       "      <td>2800000</td>\n",
       "      <td>218.917923</td>\n",
       "      <td>200345082</td>\n",
       "      <td>915160.710711</td>\n",
       "    </tr>\n",
       "    <tr>\n",
       "      <th>249</th>\n",
       "      <td>klsm256</td>\n",
       "      <td>32</td>\n",
       "      <td>2800000</td>\n",
       "      <td>218.917923</td>\n",
       "      <td>202658557</td>\n",
       "      <td>925728.484095</td>\n",
       "    </tr>\n",
       "  </tbody>\n",
       "</table>\n",
       "<p>250 rows × 6 columns</p>\n",
       "</div>"
      ],
      "text/plain": [
       "    benchmark  cores  frequency       power  throughput     efficiency\n",
       "0     klsm128      1    1200000  105.239227     4243749   40324.783001\n",
       "1     klsm128      1    1200000  105.239227     4273766   40610.009345\n",
       "2     klsm128      1    1200000  105.239227     4276790   40638.743877\n",
       "3     klsm128      1    1200000  105.239227     4277757   40647.932466\n",
       "4     klsm128      1    1200000  105.239227     4279924   40668.523647\n",
       "..        ...    ...        ...         ...         ...            ...\n",
       "245   klsm256     32    2800000  218.917923   196992192  899844.970665\n",
       "246   klsm256     32    2800000  218.917923   198563302  907021.678622\n",
       "247   klsm256     32    2800000  218.917923   199977867  913483.301228\n",
       "248   klsm256     32    2800000  218.917923   200345082  915160.710711\n",
       "249   klsm256     32    2800000  218.917923   202658557  925728.484095\n",
       "\n",
       "[250 rows x 6 columns]"
      ]
     },
     "execution_count": 36,
     "metadata": {},
     "output_type": "execute_result"
    }
   ],
   "source": [
    "dataframe['efficiency'] = dataframe['throughput']/dataframe['power']\n",
    "dataframe.sort_values(by = metrics_bench, inplace = True)\n",
    "dataframe.reset_index(drop = True)"
   ]
  },
  {
   "cell_type": "markdown",
   "metadata": {},
   "source": [
    "## (Optional) Saving the Dataframe to a CSV File"
   ]
  },
  {
   "cell_type": "code",
   "execution_count": 37,
   "metadata": {},
   "outputs": [],
   "source": [
    "# Uncomment the below line to save results to a CSV file\n",
    "\n",
    "#dataframe.to_csv('klsm_results.csv', sep = ',')"
   ]
  },
  {
   "cell_type": "markdown",
   "metadata": {},
   "source": [
    "## Create a Grouped Dataframe"
   ]
  },
  {
   "cell_type": "code",
   "execution_count": 38,
   "metadata": {},
   "outputs": [],
   "source": [
    "stats = ['mean', 'min', 'max', 'median']"
   ]
  },
  {
   "cell_type": "code",
   "execution_count": 39,
   "metadata": {},
   "outputs": [],
   "source": [
    "grouped_dataframe = dataframe.groupby(['benchmark', 'cores', 'frequency', 'power']).aggregate({'throughput': stats, 'efficiency': stats})"
   ]
  },
  {
   "cell_type": "code",
   "execution_count": 40,
   "metadata": {},
   "outputs": [],
   "source": [
    "grouped_dataframe.reset_index(inplace = True)"
   ]
  },
  {
   "cell_type": "code",
   "execution_count": 11,
   "metadata": {},
   "outputs": [],
   "source": [
    "#rename columns for better visibility and splitting\n",
    "grouped_dataframe.columns = ['benchmark', 'cores', 'frequency', 'power', 'throughput_mean', 'throughput_min', 'throughput_max', 'throughput_median',\n",
    "                            'efficiency_mean', 'efficiency_min', 'efficiency_max', 'efficiency_median']"
   ]
  },
  {
   "cell_type": "code",
   "execution_count": 12,
   "metadata": {},
   "outputs": [],
   "source": [
    "grouped_dataframe = grouped_dataframe[['benchmark', 'cores', 'frequency', 'power', 'throughput_median']]"
   ]
  },
  {
   "cell_type": "markdown",
   "metadata": {},
   "source": [
    "Taking the median throughput for analysis since it is not affected by outliers"
   ]
  },
  {
   "cell_type": "markdown",
   "metadata": {},
   "source": [
    "The performance per watt numbers are highest for 32 cores at 2.8GHz for the klsm256 benchmark and highest for 32 cores at 2.5 GHz for the klsm128 benchmark."
   ]
  },
  {
   "cell_type": "markdown",
   "metadata": {},
   "source": [
    "## Plotting"
   ]
  },
  {
   "cell_type": "code",
   "execution_count": 44,
   "metadata": {},
   "outputs": [
    {
     "data": {
      "image/png": "[encoded data removed]",
      "text/plain": [
       "<Figure size 800x360 with 2 Axes>"
      ]
     },
     "metadata": {
      "needs_background": "light"
     },
     "output_type": "display_data"
    }
   ],
   "source": [
    "sns.catplot(x = 'cores',\n",
    "            y = 'throughput',\n",
    "            hue = 'frequency',\n",
    "            data = dataframe,\n",
    "            kind = 'bar',\n",
    "            legend = True,\n",
    "            margin_titles= True,\n",
    "            col = 'benchmark')"
   ]
  },
  {
   "cell_type": "code",
   "execution_count": 45,
   "metadata": {},
   "outputs": [
    {
     "data": {
      "text/plain": [
       "<seaborn.axisgrid.FacetGrid at 0x2256b4be430>"
      ]
     },
     "execution_count": 45,
     "metadata": {},
     "output_type": "execute_result"
    },
    {
     "data": {
      "image/png": "[encoded data removed]",
      "text/plain": [
       "<Figure size 800x360 with 2 Axes>"
      ]
     },
     "metadata": {
      "needs_background": "light"
     },
     "output_type": "display_data"
    }
   ],
   "source": [
    "sns.catplot(x = 'cores',\n",
    "            y = 'efficiency',\n",
    "            hue = 'frequency',\n",
    "            data = dataframe,\n",
    "            kind = 'bar',\n",
    "            legend = True,\n",
    "            margin_titles= True,\n",
    "            col = 'benchmark')"
   ]
  },
  {
   "cell_type": "markdown",
   "metadata": {},
   "source": [
    "### We can see that for the klsm256 benchmark, 32 cores with max 2800MHz frequency yields the maximum efficiency, while klsm128 with 32 cores at 2500MHz has the highest efficiency."
   ]
  }
 ],
 "metadata": {
  "kernelspec": {
   "display_name": "Python 3.8.0 ('tf2.9')",
   "language": "python",
   "name": "python3"
  },
  "language_info": {
   "codemirror_mode": {
    "name": "ipython",
    "version": 3
   },
   "file_extension": ".py",
   "mimetype": "text/x-python",
   "name": "python",
   "nbconvert_exporter": "python",
   "pygments_lexer": "ipython3",
   "version": "3.8.0"
  },
  "orig_nbformat": 4,
  "vscode": {
   "interpreter": {
    "hash": "f3f9b9e2c84dd319003698fc684ead22f769b71014b59713d46cc8251cf0f9de"
   }
  }
 },
 "nbformat": 4,
 "nbformat_minor": 2
}

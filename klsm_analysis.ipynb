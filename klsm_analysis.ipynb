{
 "cells": [
  {
   "cell_type": "markdown",
   "metadata": {},
   "source": [
    "# Python Notebook for Analysing Benchmark Results of the K-Priority Queue benchmark"
   ]
  },
  {
   "cell_type": "markdown",
   "metadata": {},
   "source": [
    "## Imports and Parameters"
   ]
  },
  {
   "cell_type": "code",
   "execution_count": 25,
   "metadata": {},
   "outputs": [],
   "source": [
    "import os\n",
    "import numpy as np\n",
    "import pandas as pd\n",
    "import seaborn as sns\n",
    "import matplotlib.pyplot as plt"
   ]
  },
  {
   "cell_type": "code",
   "execution_count": 26,
   "metadata": {},
   "outputs": [],
   "source": [
    "frequencies = [1200000, 1500000, 1800000, 2100000, 2300000]\n",
    "cores = [1, 8, 16, 24]"
   ]
  },
  {
   "cell_type": "code",
   "execution_count": 27,
   "metadata": {},
   "outputs": [],
   "source": [
    "metrics = ['benchmark', 'cores', 'throughput', 'frequency', 'power']\n",
    "metrics_bench = ['benchmark', 'cores', 'throughput']\n",
    "metrics_power = ['power']"
   ]
  },
  {
   "cell_type": "code",
   "execution_count": 28,
   "metadata": {},
   "outputs": [],
   "source": [
    "dataframe = pd.DataFrame(columns = metrics)"
   ]
  },
  {
   "cell_type": "markdown",
   "metadata": {},
   "source": [
    "## Creating the Dataframe\n",
    "\n",
    "We create a dataframe containing all of the results obtained after running the benchmarks, sorted by the benchmark name, cores, and the frequency."
   ]
  },
  {
   "cell_type": "code",
   "execution_count": 29,
   "metadata": {},
   "outputs": [],
   "source": [
    "for frequency in frequencies:\n",
    "    for core in cores:\n",
    "        dataframe = pd.concat([dataframe, pd.read_csv(\"./klsm/results/{freq}/results_{cores}.csv\".format(\n",
    "                    freq = frequency, \n",
    "                    cores = core\n",
    "                ), names = metrics_bench).assign(frequency = frequency)], ignore_index= True, sort= True)\n",
    "        avg_power = pd.read_csv(\"./klsm/results/{freq}/power_{cores}.csv\".format(\n",
    "                    freq = frequency, \n",
    "                    cores = core\n",
    "                ), names = metrics_power, index_col= False).mean().mean()\n",
    "        dataframe.fillna(avg_power, inplace = True)"
   ]
  },
  {
   "cell_type": "code",
   "execution_count": 30,
   "metadata": {},
   "outputs": [
    {
     "data": {
      "text/html": [
       "<div>\n",
       "<style scoped>\n",
       "    .dataframe tbody tr th:only-of-type {\n",
       "        vertical-align: middle;\n",
       "    }\n",
       "\n",
       "    .dataframe tbody tr th {\n",
       "        vertical-align: top;\n",
       "    }\n",
       "\n",
       "    .dataframe thead th {\n",
       "        text-align: right;\n",
       "    }\n",
       "</style>\n",
       "<table border=\"1\" class=\"dataframe\">\n",
       "  <thead>\n",
       "    <tr style=\"text-align: right;\">\n",
       "      <th></th>\n",
       "      <th>benchmark</th>\n",
       "      <th>cores</th>\n",
       "      <th>frequency</th>\n",
       "      <th>power</th>\n",
       "      <th>throughput</th>\n",
       "      <th>efficiency</th>\n",
       "    </tr>\n",
       "  </thead>\n",
       "  <tbody>\n",
       "    <tr>\n",
       "      <th>0</th>\n",
       "      <td>klsm4096</td>\n",
       "      <td>1</td>\n",
       "      <td>1200000</td>\n",
       "      <td>77.006354</td>\n",
       "      <td>3700550</td>\n",
       "      <td>4.805513e+04</td>\n",
       "    </tr>\n",
       "    <tr>\n",
       "      <th>1</th>\n",
       "      <td>klsm4096</td>\n",
       "      <td>1</td>\n",
       "      <td>1200000</td>\n",
       "      <td>77.006354</td>\n",
       "      <td>3702997</td>\n",
       "      <td>4.808690e+04</td>\n",
       "    </tr>\n",
       "    <tr>\n",
       "      <th>2</th>\n",
       "      <td>klsm4096</td>\n",
       "      <td>1</td>\n",
       "      <td>1200000</td>\n",
       "      <td>77.006354</td>\n",
       "      <td>3703487</td>\n",
       "      <td>4.809327e+04</td>\n",
       "    </tr>\n",
       "    <tr>\n",
       "      <th>3</th>\n",
       "      <td>klsm4096</td>\n",
       "      <td>1</td>\n",
       "      <td>1200000</td>\n",
       "      <td>77.006354</td>\n",
       "      <td>3707153</td>\n",
       "      <td>4.814087e+04</td>\n",
       "    </tr>\n",
       "    <tr>\n",
       "      <th>4</th>\n",
       "      <td>klsm4096</td>\n",
       "      <td>1</td>\n",
       "      <td>1200000</td>\n",
       "      <td>77.006354</td>\n",
       "      <td>3707422</td>\n",
       "      <td>4.814436e+04</td>\n",
       "    </tr>\n",
       "    <tr>\n",
       "      <th>...</th>\n",
       "      <td>...</td>\n",
       "      <td>...</td>\n",
       "      <td>...</td>\n",
       "      <td>...</td>\n",
       "      <td>...</td>\n",
       "      <td>...</td>\n",
       "    </tr>\n",
       "    <tr>\n",
       "      <th>95</th>\n",
       "      <td>klsm4096</td>\n",
       "      <td>24</td>\n",
       "      <td>2300000</td>\n",
       "      <td>174.251736</td>\n",
       "      <td>172428144</td>\n",
       "      <td>9.895347e+05</td>\n",
       "    </tr>\n",
       "    <tr>\n",
       "      <th>96</th>\n",
       "      <td>klsm4096</td>\n",
       "      <td>24</td>\n",
       "      <td>2300000</td>\n",
       "      <td>174.251736</td>\n",
       "      <td>172550600</td>\n",
       "      <td>9.902375e+05</td>\n",
       "    </tr>\n",
       "    <tr>\n",
       "      <th>97</th>\n",
       "      <td>klsm4096</td>\n",
       "      <td>24</td>\n",
       "      <td>2300000</td>\n",
       "      <td>174.251736</td>\n",
       "      <td>174228887</td>\n",
       "      <td>9.998689e+05</td>\n",
       "    </tr>\n",
       "    <tr>\n",
       "      <th>98</th>\n",
       "      <td>klsm4096</td>\n",
       "      <td>24</td>\n",
       "      <td>2300000</td>\n",
       "      <td>174.251736</td>\n",
       "      <td>174307381</td>\n",
       "      <td>1.000319e+06</td>\n",
       "    </tr>\n",
       "    <tr>\n",
       "      <th>99</th>\n",
       "      <td>klsm4096</td>\n",
       "      <td>24</td>\n",
       "      <td>2300000</td>\n",
       "      <td>174.251736</td>\n",
       "      <td>174857759</td>\n",
       "      <td>1.003478e+06</td>\n",
       "    </tr>\n",
       "  </tbody>\n",
       "</table>\n",
       "<p>100 rows × 6 columns</p>\n",
       "</div>"
      ],
      "text/plain": [
       "   benchmark  cores  frequency       power  throughput    efficiency\n",
       "0   klsm4096      1    1200000   77.006354     3700550  4.805513e+04\n",
       "1   klsm4096      1    1200000   77.006354     3702997  4.808690e+04\n",
       "2   klsm4096      1    1200000   77.006354     3703487  4.809327e+04\n",
       "3   klsm4096      1    1200000   77.006354     3707153  4.814087e+04\n",
       "4   klsm4096      1    1200000   77.006354     3707422  4.814436e+04\n",
       "..       ...    ...        ...         ...         ...           ...\n",
       "95  klsm4096     24    2300000  174.251736   172428144  9.895347e+05\n",
       "96  klsm4096     24    2300000  174.251736   172550600  9.902375e+05\n",
       "97  klsm4096     24    2300000  174.251736   174228887  9.998689e+05\n",
       "98  klsm4096     24    2300000  174.251736   174307381  1.000319e+06\n",
       "99  klsm4096     24    2300000  174.251736   174857759  1.003478e+06\n",
       "\n",
       "[100 rows x 6 columns]"
      ]
     },
     "execution_count": 30,
     "metadata": {},
     "output_type": "execute_result"
    }
   ],
   "source": [
    "dataframe['efficiency'] = dataframe['throughput']/dataframe['power']\n",
    "dataframe.sort_values(by = metrics_bench, inplace = True)\n",
    "dataframe.reset_index(drop = True)"
   ]
  },
  {
   "cell_type": "code",
   "execution_count": 31,
   "metadata": {},
   "outputs": [],
   "source": [
    "dataframe = pd.read_csv('klsm_16_128_256_4096.csv')"
   ]
  },
  {
   "cell_type": "code",
   "execution_count": 32,
   "metadata": {},
   "outputs": [
    {
     "data": {
      "text/html": [
       "<div>\n",
       "<style scoped>\n",
       "    .dataframe tbody tr th:only-of-type {\n",
       "        vertical-align: middle;\n",
       "    }\n",
       "\n",
       "    .dataframe tbody tr th {\n",
       "        vertical-align: top;\n",
       "    }\n",
       "\n",
       "    .dataframe thead th {\n",
       "        text-align: right;\n",
       "    }\n",
       "</style>\n",
       "<table border=\"1\" class=\"dataframe\">\n",
       "  <thead>\n",
       "    <tr style=\"text-align: right;\">\n",
       "      <th></th>\n",
       "      <th>benchmark</th>\n",
       "      <th>cores</th>\n",
       "      <th>efficiency</th>\n",
       "      <th>frequency</th>\n",
       "      <th>power</th>\n",
       "      <th>throughput</th>\n",
       "    </tr>\n",
       "  </thead>\n",
       "  <tbody>\n",
       "    <tr>\n",
       "      <th>0</th>\n",
       "      <td>klsm128</td>\n",
       "      <td>1</td>\n",
       "      <td>5.321772e+04</td>\n",
       "      <td>1200000</td>\n",
       "      <td>77.262286</td>\n",
       "      <td>4111723</td>\n",
       "    </tr>\n",
       "    <tr>\n",
       "      <th>1</th>\n",
       "      <td>klsm128</td>\n",
       "      <td>1</td>\n",
       "      <td>5.329332e+04</td>\n",
       "      <td>1200000</td>\n",
       "      <td>77.262286</td>\n",
       "      <td>4117564</td>\n",
       "    </tr>\n",
       "    <tr>\n",
       "      <th>2</th>\n",
       "      <td>klsm128</td>\n",
       "      <td>1</td>\n",
       "      <td>5.330158e+04</td>\n",
       "      <td>1200000</td>\n",
       "      <td>77.262286</td>\n",
       "      <td>4118202</td>\n",
       "    </tr>\n",
       "    <tr>\n",
       "      <th>3</th>\n",
       "      <td>klsm128</td>\n",
       "      <td>1</td>\n",
       "      <td>5.335426e+04</td>\n",
       "      <td>1200000</td>\n",
       "      <td>77.262286</td>\n",
       "      <td>4122272</td>\n",
       "    </tr>\n",
       "    <tr>\n",
       "      <th>4</th>\n",
       "      <td>klsm128</td>\n",
       "      <td>1</td>\n",
       "      <td>5.341466e+04</td>\n",
       "      <td>1200000</td>\n",
       "      <td>77.262286</td>\n",
       "      <td>4126939</td>\n",
       "    </tr>\n",
       "    <tr>\n",
       "      <th>...</th>\n",
       "      <td>...</td>\n",
       "      <td>...</td>\n",
       "      <td>...</td>\n",
       "      <td>...</td>\n",
       "      <td>...</td>\n",
       "      <td>...</td>\n",
       "    </tr>\n",
       "    <tr>\n",
       "      <th>395</th>\n",
       "      <td>klsm4096</td>\n",
       "      <td>24</td>\n",
       "      <td>9.895347e+05</td>\n",
       "      <td>2300000</td>\n",
       "      <td>174.251736</td>\n",
       "      <td>172428144</td>\n",
       "    </tr>\n",
       "    <tr>\n",
       "      <th>396</th>\n",
       "      <td>klsm4096</td>\n",
       "      <td>24</td>\n",
       "      <td>9.902375e+05</td>\n",
       "      <td>2300000</td>\n",
       "      <td>174.251736</td>\n",
       "      <td>172550600</td>\n",
       "    </tr>\n",
       "    <tr>\n",
       "      <th>397</th>\n",
       "      <td>klsm4096</td>\n",
       "      <td>24</td>\n",
       "      <td>9.998689e+05</td>\n",
       "      <td>2300000</td>\n",
       "      <td>174.251736</td>\n",
       "      <td>174228887</td>\n",
       "    </tr>\n",
       "    <tr>\n",
       "      <th>398</th>\n",
       "      <td>klsm4096</td>\n",
       "      <td>24</td>\n",
       "      <td>1.000319e+06</td>\n",
       "      <td>2300000</td>\n",
       "      <td>174.251736</td>\n",
       "      <td>174307381</td>\n",
       "    </tr>\n",
       "    <tr>\n",
       "      <th>399</th>\n",
       "      <td>klsm4096</td>\n",
       "      <td>24</td>\n",
       "      <td>1.003478e+06</td>\n",
       "      <td>2300000</td>\n",
       "      <td>174.251736</td>\n",
       "      <td>174857759</td>\n",
       "    </tr>\n",
       "  </tbody>\n",
       "</table>\n",
       "<p>400 rows × 6 columns</p>\n",
       "</div>"
      ],
      "text/plain": [
       "    benchmark  cores    efficiency  frequency       power  throughput\n",
       "0     klsm128      1  5.321772e+04    1200000   77.262286     4111723\n",
       "1     klsm128      1  5.329332e+04    1200000   77.262286     4117564\n",
       "2     klsm128      1  5.330158e+04    1200000   77.262286     4118202\n",
       "3     klsm128      1  5.335426e+04    1200000   77.262286     4122272\n",
       "4     klsm128      1  5.341466e+04    1200000   77.262286     4126939\n",
       "..        ...    ...           ...        ...         ...         ...\n",
       "395  klsm4096     24  9.895347e+05    2300000  174.251736   172428144\n",
       "396  klsm4096     24  9.902375e+05    2300000  174.251736   172550600\n",
       "397  klsm4096     24  9.998689e+05    2300000  174.251736   174228887\n",
       "398  klsm4096     24  1.000319e+06    2300000  174.251736   174307381\n",
       "399  klsm4096     24  1.003478e+06    2300000  174.251736   174857759\n",
       "\n",
       "[400 rows x 6 columns]"
      ]
     },
     "execution_count": 32,
     "metadata": {},
     "output_type": "execute_result"
    }
   ],
   "source": [
    "dataframe"
   ]
  },
  {
   "cell_type": "code",
   "execution_count": 33,
   "metadata": {},
   "outputs": [],
   "source": [
    "#save dataframe\n",
    "#dataframe.to_csv(\"klsm_16_128_256_4096.csv\", sep = \",\", index = False)"
   ]
  },
  {
   "cell_type": "markdown",
   "metadata": {},
   "source": [
    "## (Optional) Saving the Dataframe to a CSV File"
   ]
  },
  {
   "cell_type": "code",
   "execution_count": 34,
   "metadata": {},
   "outputs": [],
   "source": [
    "# Uncomment the below line to save results to a CSV file\n",
    "\n",
    "#dataframe.to_csv('klsm_results.csv', sep = ',')"
   ]
  },
  {
   "cell_type": "markdown",
   "metadata": {},
   "source": [
    "## Create a Grouped Dataframe"
   ]
  },
  {
   "cell_type": "code",
   "execution_count": 35,
   "metadata": {},
   "outputs": [],
   "source": [
    "stats = ['mean', 'min', 'max', 'median']"
   ]
  },
  {
   "cell_type": "code",
   "execution_count": 36,
   "metadata": {},
   "outputs": [],
   "source": [
    "grouped_dataframe = dataframe.groupby(['benchmark', 'cores', 'frequency', 'power']).aggregate({'throughput': stats, 'efficiency': stats})"
   ]
  },
  {
   "cell_type": "code",
   "execution_count": 37,
   "metadata": {},
   "outputs": [],
   "source": [
    "grouped_dataframe.reset_index(inplace = True)"
   ]
  },
  {
   "cell_type": "code",
   "execution_count": 38,
   "metadata": {},
   "outputs": [],
   "source": [
    "#rename columns for better visibility and splitting\n",
    "grouped_dataframe.columns = ['benchmark', 'cores', 'frequency', 'power', 'throughput_mean', 'throughput_min', 'throughput_max', 'throughput_median',\n",
    "                            'efficiency_mean', 'efficiency_min', 'efficiency_max', 'efficiency_median']"
   ]
  },
  {
   "cell_type": "code",
   "execution_count": 39,
   "metadata": {},
   "outputs": [],
   "source": [
    "grouped_dataframe = grouped_dataframe[['benchmark', 'cores', 'frequency', 'power', 'throughput_median']]"
   ]
  },
  {
   "cell_type": "markdown",
   "metadata": {},
   "source": [
    "Taking the median throughput for analysis since it is not affected by outliers"
   ]
  },
  {
   "cell_type": "markdown",
   "metadata": {},
   "source": [
    "The performance per watt numbers are highest for 32 cores at 2.8GHz for the klsm256 benchmark and highest for 32 cores at 2.5 GHz for the klsm128 benchmark."
   ]
  },
  {
   "cell_type": "markdown",
   "metadata": {},
   "source": [
    "## Plotting"
   ]
  },
  {
   "cell_type": "code",
   "execution_count": 40,
   "metadata": {},
   "outputs": [
    {
     "data": {
      "text/plain": [
       "<seaborn.axisgrid.FacetGrid at 0x267b10e6730>"
      ]
     },
     "execution_count": 40,
     "metadata": {},
     "output_type": "execute_result"
    },
    {
     "data": {
      "image/png": "[encoded data removed]",
      "text/plain": [
       "<Figure size 1520x360 with 4 Axes>"
      ]
     },
     "metadata": {
      "needs_background": "light"
     },
     "output_type": "display_data"
    }
   ],
   "source": [
    "sns.catplot(x = 'cores',\n",
    "            y = 'throughput',\n",
    "            hue = 'frequency',\n",
    "            data = dataframe,\n",
    "            kind = 'bar',\n",
    "            legend = True,\n",
    "            margin_titles= True,\n",
    "            col = 'benchmark')"
   ]
  },
  {
   "cell_type": "code",
   "execution_count": 41,
   "metadata": {},
   "outputs": [
    {
     "data": {
      "text/plain": [
       "<seaborn.axisgrid.FacetGrid at 0x267b347c1f0>"
      ]
     },
     "execution_count": 41,
     "metadata": {},
     "output_type": "execute_result"
    },
    {
     "data": {
      "image/png": "[encoded data removed]",
      "text/plain": [
       "<Figure size 1520x360 with 4 Axes>"
      ]
     },
     "metadata": {
      "needs_background": "light"
     },
     "output_type": "display_data"
    }
   ],
   "source": [
    "sns.catplot(x = 'cores',\n",
    "            y = 'efficiency',\n",
    "            hue = 'frequency',\n",
    "            data = dataframe,\n",
    "            kind = 'bar',\n",
    "            legend = True,\n",
    "            margin_titles= True,\n",
    "            col = 'benchmark')"
   ]
  }
 ],
 "metadata": {
  "kernelspec": {
   "display_name": "Python 3.8.0 ('tf2.9')",
   "language": "python",
   "name": "python3"
  },
  "language_info": {
   "codemirror_mode": {
    "name": "ipython",
    "version": 3
   },
   "file_extension": ".py",
   "mimetype": "text/x-python",
   "name": "python",
   "nbconvert_exporter": "python",
   "pygments_lexer": "ipython3",
   "version": "3.8.0"
  },
  "orig_nbformat": 4,
  "vscode": {
   "interpreter": {
    "hash": "f3f9b9e2c84dd319003698fc684ead22f769b71014b59713d46cc8251cf0f9de"
   }
  }
 },
 "nbformat": 4,
 "nbformat_minor": 2
}
